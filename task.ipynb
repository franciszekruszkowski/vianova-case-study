{
 "cells": [
  {
   "cell_type": "code",
   "execution_count": 49,
   "id": "14814f31",
   "metadata": {},
   "outputs": [],
   "source": [
    "import pandas as pd\n",
    "import mysql.connector\n",
    "from sqlalchemy import create_engine\n",
    "import pymysql"
   ]
  },
  {
   "cell_type": "code",
   "execution_count": 5,
   "id": "2407947b",
   "metadata": {},
   "outputs": [],
   "source": [
    "dataset = pd.read_csv(\"geonames-all-cities-with-a-population-1000.csv\", sep=\";\")\n",
    "dataset.head(10)"
   ]
  },
  {
   "cell_type": "code",
   "execution_count": 74,
   "id": "99c2dab8",
   "metadata": {},
   "outputs": [
    {
     "name": "stdout",
     "output_type": "stream",
     "text": [
      "Number of times population exceeds 10,000,000: 17\n"
     ]
    }
   ],
   "source": [
    "exceed_count = (dataset['Population'] > 10000000).sum()\n",
    "print(\"Number of times population exceeds 10,000,000:\", exceed_count)"
   ]
  },
  {
   "cell_type": "code",
   "execution_count": 78,
   "id": "220f0de4",
   "metadata": {},
   "outputs": [
    {
     "name": "stdout",
     "output_type": "stream",
     "text": [
      "Query result saved to 'result.tsv'.\n",
      "Number of distinct countries: 229\n",
      "                      country\n",
      "0                 Afghanistan\n",
      "1                     Albania\n",
      "2                     Algeria\n",
      "3              American Samoa\n",
      "4                     Andorra\n",
      "..                        ...\n",
      "214  West Bank and Gaza Strip\n",
      "215            Western Sahara\n",
      "216                     Yemen\n",
      "217                    Zambia\n",
      "218                  Zimbabwe\n",
      "\n",
      "[219 rows x 1 columns]\n"
     ]
    }
   ],
   "source": [
    "try:\n",
    "    # Connect to the MySQL database\n",
    "    connection = mysql.connector.connect(\n",
    "        host='localhost',\n",
    "        user='root',\n",
    "        password='abcd'\n",
    "    )\n",
    "    \n",
    "    # Create a cursor\n",
    "    cursor = connection.cursor()\n",
    "    \n",
    "    # Create the 'cities_populations' database if it doesn't exist\n",
    "    create_database_query = \"CREATE DATABASE IF NOT EXISTS cities_populations\"\n",
    "    cursor.execute(create_database_query)\n",
    "    \n",
    "    # Switch to the 'cities_populations' database\n",
    "    use_database_query = \"USE cities_populations\"\n",
    "    cursor.execute(use_database_query)\n",
    "    \n",
    "    # Create the 'cities_populations' table\n",
    "    create_table_query = \"\"\"\n",
    "        CREATE TABLE IF NOT EXISTS cities_populations (\n",
    "            city VARCHAR(255),\n",
    "            country VARCHAR(255),\n",
    "            population INT\n",
    "        )\n",
    "    \"\"\"\n",
    "    \n",
    "    cursor.execute(create_table_query)\n",
    "    \n",
    "    # Insert the dataset into the 'cities_populations' table\n",
    "    insert_query = \"INSERT INTO cities_populations (city, country, population) VALUES (%s, %s, %s)\"\n",
    "    values = [tuple(row) for row in dataset[['Name', 'Country name EN', 'Population']].values]\n",
    "    cursor.executemany(insert_query, values)\n",
    "    \n",
    "    # Query the database to find countries that don't host a megapolis\n",
    "    query = \"\"\"\n",
    "    SELECT DISTINCT country\n",
    "    FROM cities_populations\n",
    "    WHERE country NOT IN (\n",
    "        SELECT country\n",
    "        FROM cities_populations\n",
    "        WHERE population > 10000000\n",
    "    )\n",
    "    ORDER BY country\n",
    "    \"\"\"\n",
    "    cursor.execute(query)\n",
    "    result = cursor.fetchall()\n",
    "    \n",
    "    # Count the number of distinct countries\n",
    "    count_query = \"\"\"\n",
    "        SELECT COUNT(DISTINCT country) AS count\n",
    "        FROM cities_populations\n",
    "    \"\"\"\n",
    "    cursor.execute(count_query)\n",
    "    count_result = cursor.fetchone()\n",
    "    country_count = count_result[0]\n",
    "    \n",
    "    # Save the result as a tabulated separated value file\n",
    "    result_df = pd.DataFrame(result, columns=['country'])\n",
    "    result_df.to_csv('result.tsv', sep='\\t', index=False)\n",
    "    \n",
    "    # Close the cursor and connection\n",
    "    cursor.close()\n",
    "    connection.close()\n",
    "    \n",
    "    print(\"Query result saved to 'result.tsv'.\")\n",
    "    print(\"Number of distinct countries:\", country_count)\n",
    "    print(result_df)\n",
    "    \n",
    "except mysql.connector.Error as error:\n",
    "    print(\"Error connecting to MySQL database:\", error)"
   ]
  }
 ],
 "metadata": {
  "kernelspec": {
   "display_name": "Python 3 (ipykernel)",
   "language": "python",
   "name": "python3"
  },
  "language_info": {
   "codemirror_mode": {
    "name": "ipython",
    "version": 3
   },
   "file_extension": ".py",
   "mimetype": "text/x-python",
   "name": "python",
   "nbconvert_exporter": "python",
   "pygments_lexer": "ipython3",
   "version": "3.7.13"
  }
 },
 "nbformat": 4,
 "nbformat_minor": 5
}
